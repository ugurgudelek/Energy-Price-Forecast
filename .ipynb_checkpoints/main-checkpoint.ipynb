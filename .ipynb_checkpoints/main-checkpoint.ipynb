{
 "cells": [
  {
   "cell_type": "code",
   "execution_count": 319,
   "metadata": {
    "collapsed": false,
    "deletable": true,
    "editable": true
   },
   "outputs": [],
   "source": [
    "# import some libraries\n",
    "import pandas as pd # read_csv\n",
    "import numpy as np # fast math\n",
    "import sklearn.preprocessing as sk_pre #normalizer\n",
    "\n",
    "import keras #deeplearning library - backend is tensorflow\n",
    "import sklearn.metrics as mt #MSE metric\n",
    "import math #sqrt\n",
    "import matplotlib.pyplot as plt #plot graphs\n",
    "%matplotlib inline \n"
   ]
  },
  {
   "cell_type": "code",
   "execution_count": 320,
   "metadata": {
    "collapsed": true,
    "deletable": true,
    "editable": true
   },
   "outputs": [],
   "source": [
    "dataset = pd.read_csv('./data/QLD_all.csv', index_col=0)\n",
    "dataset.columns = ['region', 'date', 'demand', 'price', 'type']\n",
    "dataset = dataset.drop('type',axis=1)\n",
    "#dataset.index = dataset.date"
   ]
  },
  {
   "cell_type": "code",
   "execution_count": 321,
   "metadata": {
    "collapsed": false,
    "deletable": true,
    "editable": true,
    "scrolled": true
   },
   "outputs": [
    {
     "data": {
      "text/html": [
       "<div>\n",
       "<table border=\"1\" class=\"dataframe\">\n",
       "  <thead>\n",
       "    <tr style=\"text-align: right;\">\n",
       "      <th></th>\n",
       "      <th>region</th>\n",
       "      <th>date</th>\n",
       "      <th>demand</th>\n",
       "      <th>price</th>\n",
       "    </tr>\n",
       "  </thead>\n",
       "  <tbody>\n",
       "    <tr>\n",
       "      <th>0</th>\n",
       "      <td>QLD1</td>\n",
       "      <td>1999/01/01 00:30</td>\n",
       "      <td>3987.83333</td>\n",
       "      <td>19.34</td>\n",
       "    </tr>\n",
       "    <tr>\n",
       "      <th>1</th>\n",
       "      <td>QLD1</td>\n",
       "      <td>1999/01/01 01:00</td>\n",
       "      <td>3783.16667</td>\n",
       "      <td>17.47</td>\n",
       "    </tr>\n",
       "    <tr>\n",
       "      <th>2</th>\n",
       "      <td>QLD1</td>\n",
       "      <td>1999/01/01 01:30</td>\n",
       "      <td>3621.33333</td>\n",
       "      <td>17.08</td>\n",
       "    </tr>\n",
       "    <tr>\n",
       "      <th>3</th>\n",
       "      <td>QLD1</td>\n",
       "      <td>1999/01/01 02:00</td>\n",
       "      <td>3487.50000</td>\n",
       "      <td>15.84</td>\n",
       "    </tr>\n",
       "    <tr>\n",
       "      <th>4</th>\n",
       "      <td>QLD1</td>\n",
       "      <td>1999/01/01 02:30</td>\n",
       "      <td>3386.50000</td>\n",
       "      <td>15.68</td>\n",
       "    </tr>\n",
       "    <tr>\n",
       "      <th>5</th>\n",
       "      <td>QLD1</td>\n",
       "      <td>1999/01/01 03:00</td>\n",
       "      <td>3337.50000</td>\n",
       "      <td>15.56</td>\n",
       "    </tr>\n",
       "    <tr>\n",
       "      <th>6</th>\n",
       "      <td>QLD1</td>\n",
       "      <td>1999/01/01 03:30</td>\n",
       "      <td>3311.66667</td>\n",
       "      <td>15.79</td>\n",
       "    </tr>\n",
       "    <tr>\n",
       "      <th>7</th>\n",
       "      <td>QLD1</td>\n",
       "      <td>1999/01/01 04:00</td>\n",
       "      <td>3298.33333</td>\n",
       "      <td>15.68</td>\n",
       "    </tr>\n",
       "    <tr>\n",
       "      <th>8</th>\n",
       "      <td>QLD1</td>\n",
       "      <td>1999/01/01 04:30</td>\n",
       "      <td>3265.00000</td>\n",
       "      <td>16.00</td>\n",
       "    </tr>\n",
       "    <tr>\n",
       "      <th>9</th>\n",
       "      <td>QLD1</td>\n",
       "      <td>1999/01/01 05:00</td>\n",
       "      <td>3241.66667</td>\n",
       "      <td>16.15</td>\n",
       "    </tr>\n",
       "    <tr>\n",
       "      <th>10</th>\n",
       "      <td>QLD1</td>\n",
       "      <td>1999/01/01 05:30</td>\n",
       "      <td>3243.00000</td>\n",
       "      <td>16.61</td>\n",
       "    </tr>\n",
       "    <tr>\n",
       "      <th>11</th>\n",
       "      <td>QLD1</td>\n",
       "      <td>1999/01/01 06:00</td>\n",
       "      <td>3260.16667</td>\n",
       "      <td>15.42</td>\n",
       "    </tr>\n",
       "    <tr>\n",
       "      <th>12</th>\n",
       "      <td>QLD1</td>\n",
       "      <td>1999/01/01 06:30</td>\n",
       "      <td>3310.33333</td>\n",
       "      <td>15.32</td>\n",
       "    </tr>\n",
       "    <tr>\n",
       "      <th>13</th>\n",
       "      <td>QLD1</td>\n",
       "      <td>1999/01/01 07:00</td>\n",
       "      <td>3389.50000</td>\n",
       "      <td>15.67</td>\n",
       "    </tr>\n",
       "    <tr>\n",
       "      <th>14</th>\n",
       "      <td>QLD1</td>\n",
       "      <td>1999/01/01 07:30</td>\n",
       "      <td>3502.83333</td>\n",
       "      <td>16.29</td>\n",
       "    </tr>\n",
       "    <tr>\n",
       "      <th>15</th>\n",
       "      <td>QLD1</td>\n",
       "      <td>1999/01/01 08:00</td>\n",
       "      <td>3659.16667</td>\n",
       "      <td>17.93</td>\n",
       "    </tr>\n",
       "    <tr>\n",
       "      <th>16</th>\n",
       "      <td>QLD1</td>\n",
       "      <td>1999/01/01 08:30</td>\n",
       "      <td>3752.33333</td>\n",
       "      <td>18.92</td>\n",
       "    </tr>\n",
       "    <tr>\n",
       "      <th>17</th>\n",
       "      <td>QLD1</td>\n",
       "      <td>1999/01/01 09:00</td>\n",
       "      <td>3893.00000</td>\n",
       "      <td>21.00</td>\n",
       "    </tr>\n",
       "    <tr>\n",
       "      <th>18</th>\n",
       "      <td>QLD1</td>\n",
       "      <td>1999/01/01 09:30</td>\n",
       "      <td>3976.39167</td>\n",
       "      <td>20.50</td>\n",
       "    </tr>\n",
       "    <tr>\n",
       "      <th>19</th>\n",
       "      <td>QLD1</td>\n",
       "      <td>1999/01/01 10:00</td>\n",
       "      <td>4071.50000</td>\n",
       "      <td>23.84</td>\n",
       "    </tr>\n",
       "    <tr>\n",
       "      <th>20</th>\n",
       "      <td>QLD1</td>\n",
       "      <td>1999/01/01 10:30</td>\n",
       "      <td>4097.50000</td>\n",
       "      <td>24.79</td>\n",
       "    </tr>\n",
       "    <tr>\n",
       "      <th>21</th>\n",
       "      <td>QLD1</td>\n",
       "      <td>1999/01/01 11:00</td>\n",
       "      <td>4133.16667</td>\n",
       "      <td>26.27</td>\n",
       "    </tr>\n",
       "    <tr>\n",
       "      <th>22</th>\n",
       "      <td>QLD1</td>\n",
       "      <td>1999/01/01 11:30</td>\n",
       "      <td>4137.83333</td>\n",
       "      <td>25.26</td>\n",
       "    </tr>\n",
       "    <tr>\n",
       "      <th>23</th>\n",
       "      <td>QLD1</td>\n",
       "      <td>1999/01/01 12:00</td>\n",
       "      <td>4128.83333</td>\n",
       "      <td>25.01</td>\n",
       "    </tr>\n",
       "    <tr>\n",
       "      <th>24</th>\n",
       "      <td>QLD1</td>\n",
       "      <td>1999/01/01 12:30</td>\n",
       "      <td>4109.83333</td>\n",
       "      <td>24.68</td>\n",
       "    </tr>\n",
       "    <tr>\n",
       "      <th>25</th>\n",
       "      <td>QLD1</td>\n",
       "      <td>1999/01/01 13:00</td>\n",
       "      <td>4095.50000</td>\n",
       "      <td>23.34</td>\n",
       "    </tr>\n",
       "    <tr>\n",
       "      <th>26</th>\n",
       "      <td>QLD1</td>\n",
       "      <td>1999/01/01 13:30</td>\n",
       "      <td>4066.66667</td>\n",
       "      <td>22.45</td>\n",
       "    </tr>\n",
       "    <tr>\n",
       "      <th>27</th>\n",
       "      <td>QLD1</td>\n",
       "      <td>1999/01/01 14:00</td>\n",
       "      <td>4029.50000</td>\n",
       "      <td>21.95</td>\n",
       "    </tr>\n",
       "    <tr>\n",
       "      <th>28</th>\n",
       "      <td>QLD1</td>\n",
       "      <td>1999/01/01 14:30</td>\n",
       "      <td>3995.83333</td>\n",
       "      <td>21.17</td>\n",
       "    </tr>\n",
       "    <tr>\n",
       "      <th>29</th>\n",
       "      <td>QLD1</td>\n",
       "      <td>1999/01/01 15:00</td>\n",
       "      <td>3977.00000</td>\n",
       "      <td>19.01</td>\n",
       "    </tr>\n",
       "    <tr>\n",
       "      <th>...</th>\n",
       "      <td>...</td>\n",
       "      <td>...</td>\n",
       "      <td>...</td>\n",
       "      <td>...</td>\n",
       "    </tr>\n",
       "    <tr>\n",
       "      <th>315556</th>\n",
       "      <td>QLD1</td>\n",
       "      <td>2016/12/31 09:30:00</td>\n",
       "      <td>6786.74000</td>\n",
       "      <td>67.80</td>\n",
       "    </tr>\n",
       "    <tr>\n",
       "      <th>315557</th>\n",
       "      <td>QLD1</td>\n",
       "      <td>2016/12/31 10:00:00</td>\n",
       "      <td>6905.08000</td>\n",
       "      <td>61.84</td>\n",
       "    </tr>\n",
       "    <tr>\n",
       "      <th>315558</th>\n",
       "      <td>QLD1</td>\n",
       "      <td>2016/12/31 10:30:00</td>\n",
       "      <td>6978.18000</td>\n",
       "      <td>59.26</td>\n",
       "    </tr>\n",
       "    <tr>\n",
       "      <th>315559</th>\n",
       "      <td>QLD1</td>\n",
       "      <td>2016/12/31 11:00:00</td>\n",
       "      <td>7113.92000</td>\n",
       "      <td>65.12</td>\n",
       "    </tr>\n",
       "    <tr>\n",
       "      <th>315560</th>\n",
       "      <td>QLD1</td>\n",
       "      <td>2016/12/31 11:30:00</td>\n",
       "      <td>7201.94000</td>\n",
       "      <td>65.27</td>\n",
       "    </tr>\n",
       "    <tr>\n",
       "      <th>315561</th>\n",
       "      <td>QLD1</td>\n",
       "      <td>2016/12/31 12:00:00</td>\n",
       "      <td>7374.58000</td>\n",
       "      <td>85.85</td>\n",
       "    </tr>\n",
       "    <tr>\n",
       "      <th>315562</th>\n",
       "      <td>QLD1</td>\n",
       "      <td>2016/12/31 12:30:00</td>\n",
       "      <td>7451.09000</td>\n",
       "      <td>77.35</td>\n",
       "    </tr>\n",
       "    <tr>\n",
       "      <th>315563</th>\n",
       "      <td>QLD1</td>\n",
       "      <td>2016/12/31 13:00:00</td>\n",
       "      <td>7524.00000</td>\n",
       "      <td>90.29</td>\n",
       "    </tr>\n",
       "    <tr>\n",
       "      <th>315564</th>\n",
       "      <td>QLD1</td>\n",
       "      <td>2016/12/31 13:30:00</td>\n",
       "      <td>7650.62000</td>\n",
       "      <td>96.66</td>\n",
       "    </tr>\n",
       "    <tr>\n",
       "      <th>315565</th>\n",
       "      <td>QLD1</td>\n",
       "      <td>2016/12/31 14:00:00</td>\n",
       "      <td>7557.12000</td>\n",
       "      <td>2342.24</td>\n",
       "    </tr>\n",
       "    <tr>\n",
       "      <th>315566</th>\n",
       "      <td>QLD1</td>\n",
       "      <td>2016/12/31 14:30:00</td>\n",
       "      <td>7713.31000</td>\n",
       "      <td>48.75</td>\n",
       "    </tr>\n",
       "    <tr>\n",
       "      <th>315567</th>\n",
       "      <td>QLD1</td>\n",
       "      <td>2016/12/31 15:00:00</td>\n",
       "      <td>7872.97000</td>\n",
       "      <td>55.60</td>\n",
       "    </tr>\n",
       "    <tr>\n",
       "      <th>315568</th>\n",
       "      <td>QLD1</td>\n",
       "      <td>2016/12/31 15:30:00</td>\n",
       "      <td>8091.59000</td>\n",
       "      <td>123.50</td>\n",
       "    </tr>\n",
       "    <tr>\n",
       "      <th>315569</th>\n",
       "      <td>QLD1</td>\n",
       "      <td>2016/12/31 16:00:00</td>\n",
       "      <td>8216.82000</td>\n",
       "      <td>130.94</td>\n",
       "    </tr>\n",
       "    <tr>\n",
       "      <th>315570</th>\n",
       "      <td>QLD1</td>\n",
       "      <td>2016/12/31 16:30:00</td>\n",
       "      <td>8290.25000</td>\n",
       "      <td>148.58</td>\n",
       "    </tr>\n",
       "    <tr>\n",
       "      <th>315571</th>\n",
       "      <td>QLD1</td>\n",
       "      <td>2016/12/31 17:00:00</td>\n",
       "      <td>8396.80000</td>\n",
       "      <td>89.46</td>\n",
       "    </tr>\n",
       "    <tr>\n",
       "      <th>315572</th>\n",
       "      <td>QLD1</td>\n",
       "      <td>2016/12/31 17:30:00</td>\n",
       "      <td>8333.37000</td>\n",
       "      <td>75.79</td>\n",
       "    </tr>\n",
       "    <tr>\n",
       "      <th>315573</th>\n",
       "      <td>QLD1</td>\n",
       "      <td>2016/12/31 18:00:00</td>\n",
       "      <td>8197.43000</td>\n",
       "      <td>99.62</td>\n",
       "    </tr>\n",
       "    <tr>\n",
       "      <th>315574</th>\n",
       "      <td>QLD1</td>\n",
       "      <td>2016/12/31 18:30:00</td>\n",
       "      <td>8065.77000</td>\n",
       "      <td>78.64</td>\n",
       "    </tr>\n",
       "    <tr>\n",
       "      <th>315575</th>\n",
       "      <td>QLD1</td>\n",
       "      <td>2016/12/31 19:00:00</td>\n",
       "      <td>8031.33000</td>\n",
       "      <td>75.77</td>\n",
       "    </tr>\n",
       "    <tr>\n",
       "      <th>315576</th>\n",
       "      <td>QLD1</td>\n",
       "      <td>2016/12/31 19:30:00</td>\n",
       "      <td>8073.16000</td>\n",
       "      <td>119.88</td>\n",
       "    </tr>\n",
       "    <tr>\n",
       "      <th>315577</th>\n",
       "      <td>QLD1</td>\n",
       "      <td>2016/12/31 20:00:00</td>\n",
       "      <td>7945.57000</td>\n",
       "      <td>62.12</td>\n",
       "    </tr>\n",
       "    <tr>\n",
       "      <th>315578</th>\n",
       "      <td>QLD1</td>\n",
       "      <td>2016/12/31 20:30:00</td>\n",
       "      <td>7774.71000</td>\n",
       "      <td>54.02</td>\n",
       "    </tr>\n",
       "    <tr>\n",
       "      <th>315579</th>\n",
       "      <td>QLD1</td>\n",
       "      <td>2016/12/31 21:00:00</td>\n",
       "      <td>7588.91000</td>\n",
       "      <td>51.73</td>\n",
       "    </tr>\n",
       "    <tr>\n",
       "      <th>315580</th>\n",
       "      <td>QLD1</td>\n",
       "      <td>2016/12/31 21:30:00</td>\n",
       "      <td>7468.70000</td>\n",
       "      <td>48.77</td>\n",
       "    </tr>\n",
       "    <tr>\n",
       "      <th>315581</th>\n",
       "      <td>QLD1</td>\n",
       "      <td>2016/12/31 22:00:00</td>\n",
       "      <td>7320.34000</td>\n",
       "      <td>45.24</td>\n",
       "    </tr>\n",
       "    <tr>\n",
       "      <th>315582</th>\n",
       "      <td>QLD1</td>\n",
       "      <td>2016/12/31 22:30:00</td>\n",
       "      <td>7253.52000</td>\n",
       "      <td>53.71</td>\n",
       "    </tr>\n",
       "    <tr>\n",
       "      <th>315583</th>\n",
       "      <td>QLD1</td>\n",
       "      <td>2016/12/31 23:00:00</td>\n",
       "      <td>7181.69000</td>\n",
       "      <td>50.04</td>\n",
       "    </tr>\n",
       "    <tr>\n",
       "      <th>315584</th>\n",
       "      <td>QLD1</td>\n",
       "      <td>2016/12/31 23:30:00</td>\n",
       "      <td>6986.58000</td>\n",
       "      <td>45.12</td>\n",
       "    </tr>\n",
       "    <tr>\n",
       "      <th>315585</th>\n",
       "      <td>QLD1</td>\n",
       "      <td>2017/01/01 00:00:00</td>\n",
       "      <td>6728.99000</td>\n",
       "      <td>47.13</td>\n",
       "    </tr>\n",
       "  </tbody>\n",
       "</table>\n",
       "<p>315586 rows × 4 columns</p>\n",
       "</div>"
      ],
      "text/plain": [
       "       region                 date      demand    price\n",
       "0        QLD1     1999/01/01 00:30  3987.83333    19.34\n",
       "1        QLD1     1999/01/01 01:00  3783.16667    17.47\n",
       "2        QLD1     1999/01/01 01:30  3621.33333    17.08\n",
       "3        QLD1     1999/01/01 02:00  3487.50000    15.84\n",
       "4        QLD1     1999/01/01 02:30  3386.50000    15.68\n",
       "5        QLD1     1999/01/01 03:00  3337.50000    15.56\n",
       "6        QLD1     1999/01/01 03:30  3311.66667    15.79\n",
       "7        QLD1     1999/01/01 04:00  3298.33333    15.68\n",
       "8        QLD1     1999/01/01 04:30  3265.00000    16.00\n",
       "9        QLD1     1999/01/01 05:00  3241.66667    16.15\n",
       "10       QLD1     1999/01/01 05:30  3243.00000    16.61\n",
       "11       QLD1     1999/01/01 06:00  3260.16667    15.42\n",
       "12       QLD1     1999/01/01 06:30  3310.33333    15.32\n",
       "13       QLD1     1999/01/01 07:00  3389.50000    15.67\n",
       "14       QLD1     1999/01/01 07:30  3502.83333    16.29\n",
       "15       QLD1     1999/01/01 08:00  3659.16667    17.93\n",
       "16       QLD1     1999/01/01 08:30  3752.33333    18.92\n",
       "17       QLD1     1999/01/01 09:00  3893.00000    21.00\n",
       "18       QLD1     1999/01/01 09:30  3976.39167    20.50\n",
       "19       QLD1     1999/01/01 10:00  4071.50000    23.84\n",
       "20       QLD1     1999/01/01 10:30  4097.50000    24.79\n",
       "21       QLD1     1999/01/01 11:00  4133.16667    26.27\n",
       "22       QLD1     1999/01/01 11:30  4137.83333    25.26\n",
       "23       QLD1     1999/01/01 12:00  4128.83333    25.01\n",
       "24       QLD1     1999/01/01 12:30  4109.83333    24.68\n",
       "25       QLD1     1999/01/01 13:00  4095.50000    23.34\n",
       "26       QLD1     1999/01/01 13:30  4066.66667    22.45\n",
       "27       QLD1     1999/01/01 14:00  4029.50000    21.95\n",
       "28       QLD1     1999/01/01 14:30  3995.83333    21.17\n",
       "29       QLD1     1999/01/01 15:00  3977.00000    19.01\n",
       "...       ...                  ...         ...      ...\n",
       "315556   QLD1  2016/12/31 09:30:00  6786.74000    67.80\n",
       "315557   QLD1  2016/12/31 10:00:00  6905.08000    61.84\n",
       "315558   QLD1  2016/12/31 10:30:00  6978.18000    59.26\n",
       "315559   QLD1  2016/12/31 11:00:00  7113.92000    65.12\n",
       "315560   QLD1  2016/12/31 11:30:00  7201.94000    65.27\n",
       "315561   QLD1  2016/12/31 12:00:00  7374.58000    85.85\n",
       "315562   QLD1  2016/12/31 12:30:00  7451.09000    77.35\n",
       "315563   QLD1  2016/12/31 13:00:00  7524.00000    90.29\n",
       "315564   QLD1  2016/12/31 13:30:00  7650.62000    96.66\n",
       "315565   QLD1  2016/12/31 14:00:00  7557.12000  2342.24\n",
       "315566   QLD1  2016/12/31 14:30:00  7713.31000    48.75\n",
       "315567   QLD1  2016/12/31 15:00:00  7872.97000    55.60\n",
       "315568   QLD1  2016/12/31 15:30:00  8091.59000   123.50\n",
       "315569   QLD1  2016/12/31 16:00:00  8216.82000   130.94\n",
       "315570   QLD1  2016/12/31 16:30:00  8290.25000   148.58\n",
       "315571   QLD1  2016/12/31 17:00:00  8396.80000    89.46\n",
       "315572   QLD1  2016/12/31 17:30:00  8333.37000    75.79\n",
       "315573   QLD1  2016/12/31 18:00:00  8197.43000    99.62\n",
       "315574   QLD1  2016/12/31 18:30:00  8065.77000    78.64\n",
       "315575   QLD1  2016/12/31 19:00:00  8031.33000    75.77\n",
       "315576   QLD1  2016/12/31 19:30:00  8073.16000   119.88\n",
       "315577   QLD1  2016/12/31 20:00:00  7945.57000    62.12\n",
       "315578   QLD1  2016/12/31 20:30:00  7774.71000    54.02\n",
       "315579   QLD1  2016/12/31 21:00:00  7588.91000    51.73\n",
       "315580   QLD1  2016/12/31 21:30:00  7468.70000    48.77\n",
       "315581   QLD1  2016/12/31 22:00:00  7320.34000    45.24\n",
       "315582   QLD1  2016/12/31 22:30:00  7253.52000    53.71\n",
       "315583   QLD1  2016/12/31 23:00:00  7181.69000    50.04\n",
       "315584   QLD1  2016/12/31 23:30:00  6986.58000    45.12\n",
       "315585   QLD1  2017/01/01 00:00:00  6728.99000    47.13\n",
       "\n",
       "[315586 rows x 4 columns]"
      ]
     },
     "execution_count": 321,
     "metadata": {},
     "output_type": "execute_result"
    }
   ],
   "source": [
    "dataset"
   ]
  },
  {
   "cell_type": "code",
   "execution_count": 322,
   "metadata": {
    "collapsed": false,
    "deletable": true,
    "editable": true
   },
   "outputs": [],
   "source": [
    "# lets take difference for making stationary data\n",
    "price_diff = dataset.price.diff()[1:]"
   ]
  },
  {
   "cell_type": "code",
   "execution_count": 323,
   "metadata": {
    "collapsed": false,
    "deletable": true,
    "editable": true
   },
   "outputs": [],
   "source": [
    "supervised_dataset = pd.DataFrame()\n",
    "supervised_dataset['price'] = price_diff.shift()\n",
    "supervised_dataset['label'] = price_diff\n",
    "supervised_dataset = supervised_dataset.fillna(0,axis=1)\n"
   ]
  },
  {
   "cell_type": "code",
   "execution_count": 324,
   "metadata": {
    "collapsed": false,
    "deletable": true,
    "editable": true
   },
   "outputs": [
    {
     "data": {
      "text/html": [
       "<div>\n",
       "<table border=\"1\" class=\"dataframe\">\n",
       "  <thead>\n",
       "    <tr style=\"text-align: right;\">\n",
       "      <th></th>\n",
       "      <th>price</th>\n",
       "      <th>label</th>\n",
       "    </tr>\n",
       "  </thead>\n",
       "  <tbody>\n",
       "    <tr>\n",
       "      <th>1</th>\n",
       "      <td>0.00</td>\n",
       "      <td>-1.87</td>\n",
       "    </tr>\n",
       "    <tr>\n",
       "      <th>2</th>\n",
       "      <td>-1.87</td>\n",
       "      <td>-0.39</td>\n",
       "    </tr>\n",
       "    <tr>\n",
       "      <th>3</th>\n",
       "      <td>-0.39</td>\n",
       "      <td>-1.24</td>\n",
       "    </tr>\n",
       "    <tr>\n",
       "      <th>4</th>\n",
       "      <td>-1.24</td>\n",
       "      <td>-0.16</td>\n",
       "    </tr>\n",
       "    <tr>\n",
       "      <th>5</th>\n",
       "      <td>-0.16</td>\n",
       "      <td>-0.12</td>\n",
       "    </tr>\n",
       "  </tbody>\n",
       "</table>\n",
       "</div>"
      ],
      "text/plain": [
       "   price  label\n",
       "1   0.00  -1.87\n",
       "2  -1.87  -0.39\n",
       "3  -0.39  -1.24\n",
       "4  -1.24  -0.16\n",
       "5  -0.16  -0.12"
      ]
     },
     "execution_count": 324,
     "metadata": {},
     "output_type": "execute_result"
    }
   ],
   "source": [
    "supervised_dataset.head()\n"
   ]
  },
  {
   "cell_type": "code",
   "execution_count": 325,
   "metadata": {
    "collapsed": false,
    "deletable": true,
    "editable": true
   },
   "outputs": [
    {
     "data": {
      "text/plain": [
       "(315585, 1)"
      ]
     },
     "execution_count": 325,
     "metadata": {},
     "output_type": "execute_result"
    }
   ],
   "source": [
    "X,y = supervised_dataset.price.values, supervised_dataset.label.values\n",
    "scaler = sk_pre.MinMaxScaler(feature_range=(-1,1))\n",
    "X  = X.reshape(X.shape[0],1)\n",
    "X.shape"
   ]
  },
  {
   "cell_type": "code",
   "execution_count": 326,
   "metadata": {
    "collapsed": false,
    "deletable": true,
    "editable": true
   },
   "outputs": [],
   "source": [
    "scaler.fit(X)\n",
    "X_scaled = scaler.transform(X)\n",
    "y_scaled = scaler.transform(y.reshape(X.shape[0],X.shape[1]))\n"
   ]
  },
  {
   "cell_type": "code",
   "execution_count": 327,
   "metadata": {
    "collapsed": false,
    "deletable": true,
    "editable": true
   },
   "outputs": [],
   "source": [
    "# split train and test data\n",
    "ts_size = 250000\n",
    "X_train,X_test,y_train,y_test = X_scaled[0:ts_size],X_scaled[ts_size:],y_scaled[0:ts_size],y_scaled[ts_size:]\n",
    "X_train = X_train.reshape(X_train.shape[0],1,1)\n",
    "X_test = X_test.reshape(X_test.shape[0],1,1)\n",
    "y_train = y_train.reshape(1,len(y_train))[0]\n",
    "y_test = y_test.reshape(1,len(y_test))[0]\n",
    "\n",
    "train_size = X_train.shape[0]\n",
    "test_size = X_test.shape[0]\n",
    "test_start_idx = train_size"
   ]
  },
  {
   "cell_type": "code",
   "execution_count": null,
   "metadata": {
    "collapsed": false,
    "deletable": true,
    "editable": true
   },
   "outputs": [],
   "source": [
    "# fit an LSTM network to training data\n",
    "def fit_lstm(X,y, batch_size, nb_epoch, neurons):\n",
    "    print(X.shape)\n",
    "    model = keras.models.Sequential()\n",
    "    model.add(keras.layers.recurrent.LSTM(neurons, batch_input_shape=(batch_size, X.shape[1], X.shape[2]), stateful=True))\n",
    "    model.add(keras.layers.Dense(1))\n",
    "    model.compile(loss='mean_squared_error', optimizer='adam')\n",
    "    for i in range(nb_epoch):\n",
    "        print('Epoch #',i)\n",
    "        model.fit(X, y, epochs=1, batch_size=batch_size, verbose=5, shuffle=False)\n",
    "        model.reset_states()\n",
    "    return model"
   ]
  },
  {
   "cell_type": "code",
   "execution_count": null,
   "metadata": {
    "collapsed": false,
    "deletable": true,
    "editable": true
   },
   "outputs": [
    {
     "name": "stdout",
     "output_type": "stream",
     "text": [
      "(250000, 1, 1)\n",
      "Epoch # 0\n",
      "Epoch 1/1\n"
     ]
    }
   ],
   "source": [
    "#model params\n",
    "epoch_num = 20\n",
    "neuron_num = 4\n",
    "batch_size = 1\n",
    "#fit the model\n",
    "lstm_model = fit_lstm(X_train,y_train,batch_size,epoch_num,neuron_num)"
   ]
  },
  {
   "cell_type": "code",
   "execution_count": null,
   "metadata": {
    "collapsed": false
   },
   "outputs": [],
   "source": [
    "# make forecast\n",
    "yhat = lstm_model.predict(X_test.reshape(test_size,1,1),batch_size=1)\n",
    "X_test.shape"
   ]
  },
  {
   "cell_type": "code",
   "execution_count": null,
   "metadata": {
    "collapsed": false
   },
   "outputs": [],
   "source": [
    "y_test = y_test.reshape(test_size,1)\n",
    "\n",
    "#erase below please\n",
    "#yhat = y_test"
   ]
  },
  {
   "cell_type": "code",
   "execution_count": null,
   "metadata": {
    "collapsed": false
   },
   "outputs": [],
   "source": [
    "# invert scaling and forecasting\n",
    "yhat = scaler.inverse_transform(\\\n",
    "                            np.hstack((X_test.reshape(test_size,1),yhat.reshape(test_size,1))))[:,1] + \\\n",
    "                            dataset.price.values[0 + test_start_idx: test_size + test_start_idx]"
   ]
  },
  {
   "cell_type": "code",
   "execution_count": null,
   "metadata": {
    "collapsed": false
   },
   "outputs": [],
   "source": [
    "dataset.price.values[0 + test_start_idx: 1 + test_size + test_start_idx].shape"
   ]
  },
  {
   "cell_type": "code",
   "execution_count": null,
   "metadata": {
    "collapsed": false,
    "deletable": true,
    "editable": true,
    "scrolled": true
   },
   "outputs": [],
   "source": [
    "result = pd.DataFrame()\n",
    "result['predicted'] = yhat\n",
    "result['expected'] = dataset.price.values[0 + 1 + test_start_idx: 1 + test_size + test_start_idx]\n",
    "result['predicted_fixed'] = result['predicted'].map(lambda x: x if x>0 else 0)\n",
    "result.index = dataset.date.values[0 + 1 + test_start_idx: 1 + test_size + test_start_idx]\n",
    "result\n"
   ]
  },
  {
   "cell_type": "code",
   "execution_count": null,
   "metadata": {
    "collapsed": false
   },
   "outputs": [],
   "source": [
    "result.expected.mean()"
   ]
  },
  {
   "cell_type": "code",
   "execution_count": null,
   "metadata": {
    "collapsed": false
   },
   "outputs": [],
   "source": [
    "result.expected.var()"
   ]
  },
  {
   "cell_type": "code",
   "execution_count": null,
   "metadata": {
    "collapsed": false
   },
   "outputs": [],
   "source": [
    "result.predicted.mean()"
   ]
  },
  {
   "cell_type": "code",
   "execution_count": null,
   "metadata": {
    "collapsed": false
   },
   "outputs": [],
   "source": [
    "result.predicted.var()"
   ]
  },
  {
   "cell_type": "code",
   "execution_count": null,
   "metadata": {
    "collapsed": false
   },
   "outputs": [],
   "source": [
    "# report performance\n",
    "rmse = math.sqrt(mt.mean_squared_error(result.expected,result.predicted_fixed))\n",
    "plt.rcParams['figure.figsize'] = (20, 10)\n",
    "result.predicted_fixed.plot()\n",
    "\n",
    "rmse"
   ]
  },
  {
   "cell_type": "code",
   "execution_count": null,
   "metadata": {
    "collapsed": false
   },
   "outputs": [],
   "source": [
    "#fake report performance\n",
    "fake_ind = result.expected < 1000\n",
    "fake_expected = result.expected.ix[fake_ind].values\n",
    "fake_predicted = result.predicted_fixed.ix[fake_ind].values\n",
    "\n",
    "fake_rmse = math.sqrt(mt.mean_squared_error(fake_expected, fake_predicted))\n",
    "fake_rmse"
   ]
  },
  {
   "cell_type": "code",
   "execution_count": null,
   "metadata": {
    "collapsed": false
   },
   "outputs": [],
   "source": [
    "plt.plot(fake_expected)\n",
    "plt.plot(fake_predicted)"
   ]
  },
  {
   "cell_type": "code",
   "execution_count": null,
   "metadata": {
    "collapsed": false
   },
   "outputs": [],
   "source": [
    "result.expected.plot()"
   ]
  },
  {
   "cell_type": "code",
   "execution_count": null,
   "metadata": {
    "collapsed": false
   },
   "outputs": [],
   "source": [
    "threshold = 20\n",
    "result['difference'] = result.expected.subtract(result.predicted).values\n",
    "result.difference = result.difference.map(np.abs)\n"
   ]
  },
  {
   "cell_type": "code",
   "execution_count": null,
   "metadata": {
    "collapsed": false,
    "scrolled": true
   },
   "outputs": [],
   "source": [
    "result['thresholded'] = result.difference < threshold"
   ]
  },
  {
   "cell_type": "code",
   "execution_count": null,
   "metadata": {
    "collapsed": false
   },
   "outputs": [],
   "source": [
    "thresholded_arr = result.thresholded.values\n",
    "np.sum(thresholded_arr) / len(thresholded_arr)"
   ]
  },
  {
   "cell_type": "code",
   "execution_count": null,
   "metadata": {
    "collapsed": true
   },
   "outputs": [],
   "source": []
  }
 ],
 "metadata": {
  "kernelspec": {
   "display_name": "Python 3",
   "language": "python",
   "name": "python3"
  },
  "language_info": {
   "codemirror_mode": {
    "name": "ipython",
    "version": 3
   },
   "file_extension": ".py",
   "mimetype": "text/x-python",
   "name": "python",
   "nbconvert_exporter": "python",
   "pygments_lexer": "ipython3",
   "version": "3.5.3"
  }
 },
 "nbformat": 4,
 "nbformat_minor": 2
}
